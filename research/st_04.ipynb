{
 "cells": [
  {
   "cell_type": "code",
   "execution_count": null,
   "metadata": {},
   "outputs": [],
   "source": [
    "import os \n",
    "os.chdir(r'C:\\Users\\PRAVEEN\\Desktop\\dl_cnn_classifier')"
   ]
  },
  {
   "cell_type": "code",
   "execution_count": 6,
   "metadata": {},
   "outputs": [],
   "source": [
    "from dataclasses import dataclass\n",
    "from pathlib import Path\n",
    "\n",
    "@dataclass(frozen=True)\n",
    "class TrainingConfig:\n",
    "    root_dir: Path\n",
    "    trained_model_path: Path\n",
    "    updated_base_model_path: Path\n",
    "    training_data:Path\n",
    "    params_epochs: int\n",
    "    params_batch_size: int\n",
    "    params_is_augmentation: bool\n",
    "    params_image_size: list"
   ]
  },
  {
   "cell_type": "code",
   "execution_count": 7,
   "metadata": {},
   "outputs": [],
   "source": [
    "from deepClassifier.constants import *\n",
    "from deepClassifier.utils import read_yaml, create_directories"
   ]
  },
  {
   "cell_type": "code",
   "execution_count": 8,
   "metadata": {},
   "outputs": [],
   "source": [
    "class ConfigurationManager():\n",
    "    def __init__(\n",
    "        self,\n",
    "        config_filepath=CONFIG_FILE_PATH,\n",
    "        params_filepath=PARAMS_FILE_PATH):\n",
    "\n",
    "        self.config=read_yaml(config_filepath)\n",
    "        self.params=read_yaml(params_filepath)\n",
    "        create_directories([self.config.artifact_root])\n",
    "\n",
    "    def get_trainingconfig(self)-> TrainingConfig:\n",
    "        training = self.config.training\n",
    "        prepare_base_model = self.config.prepare_base_model\n",
    "        params=self.params\n",
    "        training_data=os.path.join(self.config.data_ingestion.unzip_dir,\"PetImages\")\n",
    "        create_directories([\n",
    "            Path(training.root_dir),\n",
    "\n",
    "        ])\n",
    "\n",
    "\n",
    "        training_config = TrainingConfig(\n",
    "                root_dir=Path(training.root_dir),\n",
    "                trained_model_path =Path(training.trained_model_path),\n",
    "                updated_base_model_path= Path(prepare_base_model.updated_base_model_path),\n",
    "                training_data=Path(training_data),\n",
    "                params_epochs= params.EPOCHS,\n",
    "                params_batch_size=params.BATCH_SIZE,\n",
    "                params_is_augmentation= params.AUGMENTATION,\n",
    "                params_image_size= params.IMAGE_SIZE,\n",
    "        )\n",
    "        return  training_config "
   ]
  },
  {
   "cell_type": "code",
   "execution_count": null,
   "metadata": {},
   "outputs": [],
   "source": [
    "from configparser import Interpolation\n",
    "import tensorflow as tf\n",
    "\n",
    "class Training:\n",
    "    def __init__(self,config:TrainingConfig):\n",
    "        self.config=config\n",
    "\n",
    "    def get_base_model(self,):\n",
    "        self.model=tf.keras.models.load_model(\n",
    "            self.config.updated_base_model_path\n",
    "        )\n",
    "    def train_valid_generator(self):\n",
    "        datagenerator_kwargs=dict(\n",
    "            rescale=1./255,\n",
    "            validation_split=0.20\n",
    "        )\n",
    "        dataflow_kwargs=dict(\n",
    "            target_size=self.config.params_image_size,\n",
    "            batch_size=self.config.params_batch_size,\n",
    "            interpolation=\"bilinear\"\n",
    "        )\n",
    "        valid_datagenerator = tf.keras.preprocessing.image.ImageDataGenerator(\n",
    "            **datagenerator_kwargs\n",
    "        )\n",
    "        self.valid_generator=valid_datagenerator.flow_from_directory(\n",
    "            directory=self.config.training_data,\n",
    "            subset='validation',\n",
    "            shuffle=False,\n",
    "            **dataflow_kwargs\n",
    "        )\n",
    "        if self.config.params_is_augmentation:\n",
    "            training_datagenerator= tf.keras.preprocessing.image.ImageDataGenerator(\n",
    "                rotation_range=40,\n",
    "                horizontal_flip=True,\n",
    "                width_shift_range=0.2,\n",
    "                height_shift_range= 0.2,\n",
    "                shear_range=0.2,\n",
    "                zoom_range=0.2,\n",
    "                **datagenerator_kwargs\n",
    "            )\n",
    "        else:\n",
    "            training_datagenerator=valid_datagenerator\n",
    "        self.train_generator=training_datagenerator.flow_from_directory(\n",
    "            directory=self.config.training_data,\n",
    "            subset='trainig',\n",
    "            shuffle=True,\n",
    "            **dataflow_kwargs\n",
    "        )\n",
    "    @staticmethod\n",
    "    def save_model(path:Path,model:tf.keras.Model):\n",
    "        model.save(path)\n",
    "\n",
    "    def train(self,callback_list:list):\n",
    "        self.steps_per_epoch=self.train_generator.samples // self.train_generator.batch_size\n",
    "        self.validation_steps=self.valid_generator.samples // self.valid_generator.batch_size\n",
    "\n",
    "        self.model.fit(\n",
    "            self.train_generator,\n",
    "            epochs=self.config.params_epochs,\n",
    "            steps_per_epochs=self.steps_per_epoch,\n",
    "            validation_steps=self.validation_steps,\n",
    "            validation_data=self.valid_generator,\n",
    "            callbacks=callback_list\n",
    "        )\n",
    "        self.save_model(\n",
    "            path=self.config.trained_model_path,\n",
    "            medel=self.model\n",
    "        )\n",
    "\n"
   ]
  },
  {
   "cell_type": "code",
   "execution_count": null,
   "metadata": {},
   "outputs": [],
   "source": [
    "try:  \n",
    "    config=ConfigurationManager()\n",
    "    prepare_callback_config=config.get_prepare_callback_config()\n",
    "    prepare_callback=PrepareCallback(config=prepare_callback_config)\n",
    "    callback_list=prepare_callback.get_tb_ckpt_callbacks()\n",
    "\n",
    "    training_config=config.get_trainingconfig()\n",
    "    training=Training(training_config)\n",
    "    training.get_base_model()\n",
    "    training.train_valid_generator()\n",
    "    trianing.train(\n",
    "        \n",
    "    )\n",
    "except Exception as e:\n",
    "    raise e"
   ]
  },
  {
   "cell_type": "code",
   "execution_count": null,
   "metadata": {},
   "outputs": [],
   "source": []
  },
  {
   "cell_type": "code",
   "execution_count": null,
   "metadata": {},
   "outputs": [],
   "source": []
  },
  {
   "cell_type": "code",
   "execution_count": null,
   "metadata": {},
   "outputs": [],
   "source": []
  }
 ],
 "metadata": {
  "kernelspec": {
   "display_name": "Python 3.8.13 (conda)",
   "language": "python",
   "name": "python3"
  },
  "language_info": {
   "codemirror_mode": {
    "name": "ipython",
    "version": 3
   },
   "file_extension": ".py",
   "mimetype": "text/x-python",
   "name": "python",
   "nbconvert_exporter": "python",
   "pygments_lexer": "ipython3",
   "version": "3.8.13"
  },
  "orig_nbformat": 4,
  "vscode": {
   "interpreter": {
    "hash": "a4b2cc6e474c76391a852b357362c43100cbf6b27c275716f476e9f3ee385aef"
   }
  }
 },
 "nbformat": 4,
 "nbformat_minor": 2
}
